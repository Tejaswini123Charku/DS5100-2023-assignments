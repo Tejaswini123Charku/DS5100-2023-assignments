{
  "cells": [
    {
      "cell_type": "markdown",
      "metadata": {
        "nbgrader": {
          "grade": false,
          "grade_id": "intro",
          "locked": true,
          "schema_version": 1,
          "solution": false
        },
        "id": "jW3vxfG-Uoyb"
      },
      "source": [
        "# Week 3 Exercises\n",
        "\n",
        "See: _McKinney 2.3_ and [Python Documentation](https://docs.python.org/3/tutorial/controlflow.html) section 4 on flow control.\n",
        "\n",
        "\n",
        "**At the begining of the semester, all of the workshop programming exercises will be structured a specific way to make it easier to verify for yourself that you're on the right track as well as easier for me to do a first pass on automated grading.  The structure of each question will require you to write a function using Python code. Don't worry that we haven't talked about functions yet. Just edit the code between** `### BEGIN SOLUTION` and `### END SOLUTION` **as shown in the example below.**\n"
      ]
    },
    {
      "cell_type": "markdown",
      "metadata": {
        "id": "LAYRAcBxUoyd"
      },
      "source": [
        "**WHAT I PROVIDE:**\n",
        "```\n",
        "def some_function(parameter1, parameter2):\n",
        "\n",
        "   ### BEGIN SOLUTION\n",
        "   x = -1\n",
        "   ### END SOLUTION\n",
        "   \n",
        "   return x\n",
        "```\n",
        "\n",
        "**WHAT YOU SHOULD DO:** Just change the parameter names (if you feel you need to) and the calculations between `### BEGIN SOLUTION` and `### END SOLUTION`.  This is just a made up example.\n",
        "```\n",
        "def some_function(a, b):\n",
        "\n",
        "   ### BEGIN SOLUTION\n",
        "   temp = a + b\n",
        "   x = temp / a * b\n",
        "   ### END SOLUTION\n",
        "   \n",
        "   return x\n",
        "```\n"
      ]
    },
    {
      "cell_type": "markdown",
      "metadata": {
        "id": "52OUn5KwUoye"
      },
      "source": [
        "---\n",
        "---\n",
        "\n",
        "**Below each programming exercise are some tests (`assertions`) that verify your code is working correctly.  If any assertions fail, you know that something isnt' right with your code, but having all assertions pass doesn't necessarily mean your code is perfect, yet. You should also create your own tests to make sure your code is correct.**\n",
        "\n",
        "**For now, please don't change any function names**"
      ]
    },
    {
      "cell_type": "markdown",
      "metadata": {
        "id": "ykP3oO4FUoye"
      },
      "source": [
        "### 14.1 Difference in rate per 1,000\n",
        "\n",
        "Often in public health, we report metrics as a number per 1,000 or per 1,000,000 in population. The purpose of that is to normalize the numbers between area of larger and smaller populations.\n",
        "\n",
        "Below, we have a function already built to calculate teh different in rate per 1,000 in two different regions.  The function normalizes them and then prints out a message describing their difference."
      ]
    },
    {
      "cell_type": "code",
      "execution_count": 46,
      "metadata": {
        "id": "h6jXPOM2Uoye"
      },
      "outputs": [],
      "source": [
        "def diff_in_rate_normalized(count_a, total_a, count_b, total_b):\n",
        "    \"\"\"(int,int,int,int) -> str\n",
        "    * count_a is the number of occurences in area A\n",
        "    * total_a is the total population in area A\n",
        "    * count_b is the number of occurences in area B\n",
        "    * total_b is the total population in area B\n",
        "\n",
        "    This function returns a string describing how A and B compare in terms of occurence rates per 1,000 population.\"\"\"\n",
        "\n",
        "    rate_a = count_a / total_a * 1000\n",
        "    rate_b = count_b / total_b * 1000\n",
        "\n",
        "    if rate_a == rate_b:\n",
        "        msg = \"The rate in A and the rate in B are the same ({}).\".format(rate_a)\n",
        "    elif rate_a > rate_b:\n",
        "        msg = \"The rate in A ({}) is greater than the rate in B ({}).\".format(rate_a, rate_b)\n",
        "    else:\n",
        "        msg = \"The rate in A ({}) is less than the rate in B ({})\".format(rate_a, rate_b)\n",
        "\n",
        "    return msg"
      ]
    },
    {
      "cell_type": "code",
      "execution_count": 47,
      "metadata": {
        "id": "rnwmwj52Uoyf",
        "outputId": "3a7fbbb2-7e79-492c-d16b-bb10695fe128",
        "colab": {
          "base_uri": "https://localhost:8080/",
          "height": 0
        }
      },
      "outputs": [
        {
          "output_type": "stream",
          "name": "stdout",
          "text": [
            "The rate in A (1.0) is less than the rate in B (1.5)\n"
          ]
        }
      ],
      "source": [
        "rate_covid_testing = diff_in_rate_normalized(1,1000,15,10000)\n",
        "print(rate_covid_testing)"
      ]
    },
    {
      "cell_type": "code",
      "execution_count": 48,
      "metadata": {
        "id": "dqQ04LgBUoyf",
        "outputId": "c9878e9e-cfdf-488e-bb2f-1a0d7c36d428",
        "colab": {
          "base_uri": "https://localhost:8080/",
          "height": 35
        }
      },
      "outputs": [
        {
          "output_type": "execute_result",
          "data": {
            "text/plain": [
              "'The rate in A and the rate in B are the same (3.0).'"
            ],
            "application/vnd.google.colaboratory.intrinsic+json": {
              "type": "string"
            }
          },
          "metadata": {},
          "execution_count": 48
        }
      ],
      "source": [
        "diff_in_rate_normalized(3,1000,30,10000)"
      ]
    },
    {
      "cell_type": "markdown",
      "source": [],
      "metadata": {
        "id": "PQxzzX5aWlfs"
      }
    },
    {
      "cell_type": "markdown",
      "metadata": {
        "id": "wyWcXSeTUoyg"
      },
      "source": [
        "### 14.2 Trimming outliers\n",
        "\n",
        "While it works well in most cases, in practice, this may not truly make numbers comparable between extremely large population centers (e.g. New York City at 8.5 million) and very small rural areas (e.g. Meeteese, WY at 459 people).\n",
        "\n",
        "Let's take that function and make some adjustments.  If the total population of either A or B is more than 100 times larger than the other, then we want to return a different message.  That is, if the populations are more than two orders of magnitude different, then we shouldn't try to compare them."
      ]
    },
    {
      "cell_type": "code",
      "source": [],
      "metadata": {
        "id": "ACY445TtW8FK"
      },
      "execution_count": null,
      "outputs": []
    },
    {
      "cell_type": "code",
      "execution_count": 49,
      "metadata": {
        "id": "FZ6IJGF6Uoyg"
      },
      "outputs": [],
      "source": [
        "def diff_in_rate_normalized(count_a, total_a, count_b, total_b):\n",
        "    \"\"\"(int,int,int,int) -> str\n",
        "    * count_a is the number of occurences in area A\n",
        "    * total_a is the total population in area A\n",
        "    * count_b is the number of occurences in area B\n",
        "    * total_b is the total population in area B\n",
        "\n",
        "    This function returns a string describing how A and B compare in terms of occurence rates per 1,000 population.\n",
        "\n",
        "    If total_a / total_b > 100 OR total_b / total_a > 100 then we'll return a message saying the two can't be compared.\n",
        "    \"The total populations in A and B are so different that they can't be compared.\"\n",
        "    \"\"\"\n",
        "     # Calculate rates\n",
        "    rate_a = count_a / total_a * 1000\n",
        "    rate_b = count_b / total_b * 1000\n",
        "     # Compare rates and create message\n",
        "    if rate_a == rate_b:\n",
        "        msg = \"The rate in A and the rate in B are the same ({}).\".format(rate_a)\n",
        "    elif rate_a > rate_b:\n",
        "        msg = \"The rate in A ({}) is greater than the rate in B ({}).\".format(rate_a, rate_b)\n",
        "    else:\n",
        "        msg = \"The rate in A ({}) is less than the rate in B ({}).\".format(rate_a, rate_b)\n",
        "\n",
        "    return msg\n",
        "\n"
      ]
    },
    {
      "cell_type": "code",
      "execution_count": 50,
      "metadata": {
        "colab": {
          "base_uri": "https://localhost:8080/",
          "height": 35
        },
        "id": "in4INadFUoyg",
        "outputId": "aa6cca9d-25d0-4c35-b940-621de261573f"
      },
      "outputs": [
        {
          "output_type": "execute_result",
          "data": {
            "text/plain": [
              "'The rate in A (10.893246187363834) is greater than the rate in B (3.5294117647058827).'"
            ],
            "application/vnd.google.colaboratory.intrinsic+json": {
              "type": "string"
            }
          },
          "metadata": {},
          "execution_count": 50
        }
      ],
      "source": [
        "diff_in_rate_normalized(5, 459, 30, 8500)"
      ]
    },
    {
      "cell_type": "markdown",
      "metadata": {
        "nbgrader": {
          "grade": false,
          "grade_id": "bmi",
          "locked": true,
          "schema_version": 1,
          "solution": false
        },
        "id": "qB5sQjBSUoyh"
      },
      "source": [
        "### 14.3 LACE Score\n",
        "There is a simple readmission index called the LACE Score: https://www.hindawi.com/journals/bmri/2015/169870/tab1/\n",
        "\n",
        "Use this documentation to create a function that can compute LACE scores based on the 4 input parameters.  Below is the function signature and documentation that you start with."
      ]
    },
    {
      "cell_type": "code",
      "execution_count": 69,
      "metadata": {
        "nbgrader": {
          "grade": false,
          "grade_id": "bmi-answer",
          "locked": false,
          "schema_version": 1,
          "solution": true
        },
        "id": "ghk4XuVLUoyh"
      },
      "outputs": [],
      "source": [
        "def LACE(length_of_stay, acute_flag, charlson, ed_visits):\n",
        "    \"\"\"(int, bool, int, int) -> int\n",
        "    This function computes the LACE score for this patient based on\n",
        "    the logic from https://www.hindawi.com/journals/bmri/2015/169870/tab1/.\n",
        "\n",
        "    >>> LACE(4, False, 1, 0)\n",
        "    5\n",
        "\n",
        "    >>> LACE(4, True, 4, 7)\n",
        "    16\n",
        "    \"\"\"\n",
        "    # Initialize the score to 0\n",
        "    score = 0\n",
        "\n",
        "    # Scoring criteria for length of stay\n",
        "    length_of_stay_scores = [\n",
        "        (14, 7),   # Long stay (14 days or more)\n",
        "        (7, 5),    # Medium-long stay (7 to 13 days)\n",
        "        (4, 4),    # Medium stay (4 to 6 days)\n",
        "        (3, 3),    # Short stay (3 days)\n",
        "        (2, 2),    # Very short stay (2 days)\n",
        "        (1, 1)     # One-day stay (1 day)\n",
        "    ]\n",
        "\n",
        "    # Calculate score based on the length of stay using a loop\n",
        "    for threshold, points in length_of_stay_scores:\n",
        "        if length_of_stay >= threshold:\n",
        "            score += points\n",
        "            break  # Exit the loop after finding the score\n",
        "\n",
        "    # Add score if the patient was admitted as an acute case\n",
        "    if acute_flag:\n",
        "        score += 3  # Acute care adds 3 points\n",
        "\n",
        "    # Scoring criteria for Charlson comorbidity index\n",
        "    charlson_scores = [\n",
        "        (4, 5),  # High comorbidity score (4 or more)\n",
        "        (3, 3),  # Moderate comorbidity score (3)\n",
        "        (2, 2),  # Mild comorbidity score (2)\n",
        "        (1, 1)   # Minimal comorbidity score (1)\n",
        "    ]\n",
        "\n",
        "    # Calculate score based on Charlson comorbidity index using a loop\n",
        "    for threshold, points in charlson_scores:\n",
        "        if charlson >= threshold:\n",
        "            score += points\n",
        "            break  # Exit the loop after finding the score\n",
        "\n",
        "    # Scoring criteria for emergency department visits\n",
        "    ed_visit_scores = [\n",
        "        (4, 4),  # Frequent ED visits (4 or more)\n",
        "        (3, 3),  # Three ED visits get 3 points\n",
        "        (2, 2),  # Two ED visits get 2 points\n",
        "        (1, 1)   # One ED visit gets 1 point\n",
        "    ]\n",
        "\n",
        "    # Calculate score based on the number of emergency department visits using a loop\n",
        "    for threshold, points in ed_visit_scores:\n",
        "        if ed_visits >= threshold:\n",
        "            score += points\n",
        "            break  # Exit the loop after finding the score\n",
        "\n",
        "    # Return the final LACE score\n",
        "    return score\n",
        "\n"
      ]
    },
    {
      "cell_type": "code",
      "execution_count": 68,
      "metadata": {
        "nbgrader": {
          "grade": true,
          "grade_id": "bmi-test",
          "locked": true,
          "points": 10,
          "schema_version": 1,
          "solution": false
        },
        "colab": {
          "base_uri": "https://localhost:8080/"
        },
        "id": "6cYs-pdoUoyh",
        "outputId": "fe595383-106a-46a0-d130-40cdd43a2f1e"
      },
      "outputs": [
        {
          "output_type": "stream",
          "name": "stdout",
          "text": [
            "All assertions passed!\n"
          ]
        }
      ],
      "source": [
        "assert LACE(4, False, 1, 0) == 5, \"case 1 failed\"\n",
        "assert LACE(4, True, 4, 7) == 16, \"case 2 failed\"\n",
        "\n",
        "print(\"All assertions passed!\")\n",
        "\n"
      ]
    },
    {
      "cell_type": "code",
      "execution_count": null,
      "metadata": {
        "id": "hzXdlHvCUoyh"
      },
      "outputs": [],
      "source": []
    },
    {
      "cell_type": "markdown",
      "metadata": {
        "nbgrader": {
          "grade": false,
          "grade_id": "weight",
          "locked": true,
          "schema_version": 1,
          "solution": false
        },
        "id": "ZvuSuqR8Uoyi"
      },
      "source": [
        "### 14.4 Care Management Criteria\n",
        "\n",
        "Care managers use LACE as part of the criteria for assigning a care coodinator to a patient who has been recently discharged. If the score is above 10, then a care coordinator will be assigned. The other criteria they use is if the patient has been discharged with a diagnosis of CHF or COPD.  If the diagnosis field has CHF or COPD in it, then the patient will have a care coordinator assigned.\n",
        "\n",
        "For this exercise, write another function that takes the same inputs as LACE() plus another diagnosis parameter, and return True or False depending on if the paient needs a care coordinator.\n",
        "\n",
        "**NOTE** Pay attention to the fact that the order of parameters in this function definition are not the same as the order they were in the LACE score.  "
      ]
    },
    {
      "cell_type": "code",
      "execution_count": 72,
      "metadata": {
        "nbgrader": {
          "grade": false,
          "grade_id": "weight-answer",
          "locked": false,
          "schema_version": 1,
          "solution": true
        },
        "id": "YEONAE2FUoyi"
      },
      "outputs": [],
      "source": [
        "def assign_care_coordinator(diagnosis_cd, ed_visits, length_of_stay, acute_flag, charlson):\n",
        "    \"\"\" (str, int, int, bool, int) -> bool\n",
        "    Care managers use LACE as part of the criteria for assigning a care coordinator to a\n",
        "    patient who has been recently discharged. If the score is above 10, then a care\n",
        "    coordinator will be assigned. The other criteria they use is if the patient has been\n",
        "    discharged with a diagnosis of CHF or COPD. If the diagnosis field has CHF or COPD in\n",
        "    it, then the patient will have a care coordinator assigned.\n",
        "\n",
        "    >>> assign_care_coordinator('None', 0, 4, False, 1)\n",
        "    False\n",
        "\n",
        "    >>> assign_care_coordinator('CHF', 0, 4, False, 1)\n",
        "    True\n",
        "\n",
        "    >>> assign_care_coordinator('COPD', 0, 4, False, 1)\n",
        "    True\n",
        "\n",
        "    >>> assign_care_coordinator('None', 7, 4, True, 4)\n",
        "    True\n",
        "\n",
        "    >>> assign_care_coordinator('CHF', 7, 4, True, 4)\n",
        "    True\n",
        "    \"\"\"\n",
        "\n",
        "    # Check for specific diagnoses\n",
        "    if diagnosis_cd in ['CHF', 'COPD']:\n",
        "        return True  # Assign care coordinator\n",
        "\n",
        "    # Initialize the score to 0\n",
        "    score = 0\n",
        "\n",
        "    # Scoring criteria for length of stay\n",
        "    length_of_stay_scores = [\n",
        "        (14, 7),  # Long stay (14 days or more)\n",
        "        (7, 5),   # Medium-long stay (7 to 13 days)\n",
        "        (4, 4),   # Medium stay (4 to 6 days)\n",
        "        (3, 3),   # Short stay (3 days)\n",
        "        (2, 2),   # Very short stay (2 days)\n",
        "        (1, 1)    # One-day stay (1 day)\n",
        "    ]\n",
        "\n",
        "    # Calculate score based on length of stay using a loop\n",
        "    for threshold, points in length_of_stay_scores:\n",
        "        if length_of_stay >= threshold:\n",
        "            score += points\n",
        "            break  # Exit the loop after finding the score\n",
        "\n",
        "    # Add score if the patient was admitted as an acute case\n",
        "    if acute_flag:\n",
        "        score += 3  # Acute care adds 3 points\n",
        "\n",
        "    # Scoring criteria for Charlson comorbidity index\n",
        "    charlson_scores = [\n",
        "        (4, 5),  # High comorbidity score (4 or more)\n",
        "        (3, 3),  # Moderate comorbidity score (3)\n",
        "        (2, 2),  # Mild comorbidity score (2)\n",
        "        (1, 1)   # Minimal comorbidity score (1)\n",
        "    ]\n",
        "\n",
        "    # Calculate score based on Charlson comorbidity index using a loop\n",
        "    for threshold, points in charlson_scores:\n",
        "        if charlson >= threshold:\n",
        "            score += points\n",
        "            break  # Exit the loop after finding the score\n",
        "\n",
        "    # Scoring criteria for emergency department visits\n",
        "    ed_visit_scores = [\n",
        "        (4, 4),  # Frequent ED visits (4 or more)\n",
        "        (3, 3),  # Three ED visits get 3 points\n",
        "        (2, 2),  # Two ED visits get 2 points\n",
        "        (1, 1)   # One ED visit gets 1 point\n",
        "    ]\n",
        "\n",
        "    # Calculate score based on the number of emergency department visits using a loop\n",
        "    for threshold, points in ed_visit_scores:\n",
        "        if ed_visits >= threshold:\n",
        "            score += points\n",
        "            break  # Exit the loop after finding the score\n",
        "\n",
        "    # Assign a care coordinator if the total score exceeds 10\n",
        "    return score > 10\n",
        "\n",
        ""
      ]
    },
    {
      "cell_type": "code",
      "execution_count": 71,
      "metadata": {
        "nbgrader": {
          "grade": true,
          "grade_id": "weight-tests",
          "locked": true,
          "points": 5,
          "schema_version": 1,
          "solution": false
        },
        "id": "omeZvQ9vUoyi"
      },
      "outputs": [],
      "source": [
        "assert assign_care_coordinator('None', 0, 4, False, 1) == False\n",
        "assert assign_care_coordinator('CHF', 0, 4, False, 1) == True\n",
        "assert assign_care_coordinator('COPD', 0, 4, False, 1) == True\n",
        "assert assign_care_coordinator('None', 7, 4, True, 4) == True\n",
        "assert assign_care_coordinator('CHF', 7, 4, True, 4) == True"
      ]
    },
    {
      "cell_type": "code",
      "execution_count": null,
      "metadata": {
        "id": "tZs9fIb9Uoyi"
      },
      "outputs": [],
      "source": []
    },
    {
      "cell_type": "markdown",
      "metadata": {
        "id": "qOzMIDnwUoyi"
      },
      "source": [
        "### 14.5 qCSI COVID-19 Severity Index\n",
        "\n",
        "See: https://www.mdcalc.com/quick-covid-19-severity-index-qcsi#evidence\n",
        "\n",
        "Calculate the total risk score as per the point values assigned to respiratory rate, pulse oximetry, and O2 flow rate.  Then calculate and return the Risk Level.\n",
        "\n",
        "In addition to the rules provided at the link above, also add the following checks for valid values:\n",
        "* If `respiratory_rate <= 0` then return _invalid respiratory rate_\n",
        "* If `pulse_ox <= 0` then return _invalid pulse ox_\n",
        "* If `pulse_ox > 100` then return _invalid pulse ox_\n",
        "* If `os_flow <= 0` then return _invalid O2 flow rate_"
      ]
    },
    {
      "cell_type": "code",
      "execution_count": 73,
      "metadata": {
        "id": "DWsuvx93Uoyi"
      },
      "outputs": [],
      "source": [
        "def qcsi(respiratory_rate, pulse_ox, o2_flow):\n",
        "    \"\"\"(int, int, int) -> str\n",
        "    * respiratory_rate is an integer value\n",
        "    * pulse_ox is an integer value (e.g. 30 means 30%)\n",
        "    * o2_flow is an integer value (liters of oxygen flow per minute)\n",
        "    This function calculates a QCSI score based on the input parameters and determines a risk level.\n",
        "    \"\"\"\n",
        "\n",
        "    # Initialize scores\n",
        "    score_1 = score_2 = score_3 = 0\n",
        "\n",
        "    # Scoring criteria for respiratory rate\n",
        "    respiratory_rate_scores = [\n",
        "        (28, 2),  # High respiratory rate\n",
        "        (23, 1),  # Intermediate respiratory rate\n",
        "        (22, 0)   # Low or normal respiratory rate\n",
        "    ]\n",
        "\n",
        "    # Calculate score for respiratory rate using a loop\n",
        "    for threshold, points in respiratory_rate_scores:\n",
        "        if respiratory_rate > threshold:\n",
        "            score_1 = points\n",
        "            break\n",
        "        elif respiratory_rate <= threshold:\n",
        "            score_1 = points\n",
        "\n",
        "    # Scoring criteria for pulse oxygen level\n",
        "    pulse_ox_scores = [\n",
        "        (88, 5),  # Very low oxygen saturation\n",
        "        (92, 2),  # Moderate oxygen saturation\n",
        "        (100, 0)  # Normal oxygen saturation\n",
        "    ]\n",
        "\n",
        "    # Calculate score for pulse oxygen level using a loop\n",
        "    for threshold, points in pulse_ox_scores:\n",
        "        if pulse_ox <= threshold:\n",
        "            score_2 = points\n",
        "            break\n",
        "\n",
        "    # Scoring criteria for oxygen flow rate\n",
        "    o2_flow_scores = [\n",
        "        (6, 5),  # High oxygen flow rate\n",
        "        (4, 4),  # Intermediate flow rate\n",
        "        (2, 0)   # Low or no oxygen flow\n",
        "    ]\n",
        "\n",
        "    # Calculate score for oxygen flow rate using a loop\n",
        "    for threshold, points in o2_flow_scores:\n",
        "        if o2_flow >= threshold:\n",
        "            score_3 = points\n",
        "            break\n",
        "\n",
        "    # Total score is the sum of all three scores\n",
        "    total_score = score_1 + score_2 + score_3\n",
        "\n",
        "    # Validation checks for input values\n",
        "    if respiratory_rate <= 0:\n",
        "        return \"invalid respiratory rate\"  # Respiratory rate can't be 0 or less\n",
        "    elif pulse_ox <= 0 or pulse_ox > 100:\n",
        "        return \"invalid pulse ox\"  # Pulse ox must be between 1 and 100\n",
        "    elif o2_flow <= 0:\n",
        "        return \"invalid O2 flow rate\"  # O2 flow rate can't be 0 or negative\n",
        "\n",
        "    # Risk assessment based on the calculated score\n",
        "    if total_score <= 3:\n",
        "        risk_level = \"low\"  # Low risk\n",
        "    elif 4 <= total_score < 6:\n",
        "        risk_level = \"low-intermediate\"  # Low-intermediate risk\n",
        "    elif 7 <= total_score < 9:\n",
        "        risk_level = \"high-intermediate\"  # High-intermediate risk\n",
        "    elif 10 <= total_score < 12:\n",
        "        risk_level = \"high\"  # High risk\n",
        "\n",
        "    return risk_level  # Return the risk level based on the score\n",
        "\n"
      ]
    },
    {
      "cell_type": "code",
      "execution_count": 74,
      "metadata": {
        "id": "ZgOOeXpYUoyj"
      },
      "outputs": [],
      "source": [
        "assert (qcsi(29, 95, 1) == 'low')\n",
        "assert (qcsi(20, 93, 1) == 'low')\n",
        "assert (qcsi(29, 88, 1) == 'high-intermediate')\n",
        "assert (qcsi(29, 88, 4) == 'high')\n",
        "assert (qcsi(30, 90, 1) == 'low-intermediate')\n",
        "assert (qcsi(28, 92, -1) == 'invalid O2 flow rate')\n",
        "assert (qcsi(22, 0, 4) == 'invalid pulse ox')\n",
        "assert (qcsi(0, 97, 2) == 'invalid respiratory rate')"
      ]
    },
    {
      "cell_type": "markdown",
      "metadata": {
        "id": "gst2w4VyUoyj"
      },
      "source": [
        "---\n",
        "\n",
        "## Check your work above\n",
        "\n",
        "If you didn't get them all correct, take a few minutes to think through those that aren't correct.\n",
        "\n",
        "\n",
        "## Submitting Your Work\n",
        "\n",
        "In order to submit your work, you'll need to save this notebook file back to GitHub.  To do that in Google Colab:\n",
        "1. File -> Save a Copy in GitHub\n",
        "2. Make sure your HDS5210 repository is selected\n",
        "3. Make sure the file name includes the week number like this: `week03/week03_assignment_2.ipynb`\n",
        "4. Add a commit message that means something\n",
        "\n",
        "**Be sure week names are lowercase and use a two digit week number!!**\n",
        "\n",
        "**Be sure you use the same file name provided by the instructor!!**\n",
        "\n"
      ]
    },
    {
      "cell_type": "markdown",
      "metadata": {
        "id": "c-HnEB4TUoyj"
      },
      "source": [
        "---"
      ]
    }
  ],
  "metadata": {
    "celltoolbar": "Create Assignment",
    "kernelspec": {
      "display_name": "Python 3",
      "language": "python",
      "name": "python3"
    },
    "language_info": {
      "codemirror_mode": {
        "name": "ipython",
        "version": 3
      },
      "file_extension": ".py",
      "mimetype": "text/x-python",
      "name": "python",
      "nbconvert_exporter": "python",
      "pygments_lexer": "ipython3",
      "version": "3.6.7"
    },
    "colab": {
      "provenance": []
    }
  },
  "nbformat": 4,
  "nbformat_minor": 0
}